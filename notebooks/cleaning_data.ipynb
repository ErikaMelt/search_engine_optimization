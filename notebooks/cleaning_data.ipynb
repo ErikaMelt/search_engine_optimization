{
 "cells": [
  {
   "cell_type": "code",
   "execution_count": 1,
   "metadata": {},
   "outputs": [],
   "source": [
    "import pandas as pd"
   ]
  },
  {
   "cell_type": "code",
   "execution_count": 2,
   "metadata": {},
   "outputs": [],
   "source": [
    "df = pd.read_csv('data/search_queries.csv')"
   ]
  },
  {
   "cell_type": "code",
   "execution_count": 3,
   "metadata": {},
   "outputs": [
    {
     "data": {
      "text/html": [
       "<div>\n",
       "<style scoped>\n",
       "    .dataframe tbody tr th:only-of-type {\n",
       "        vertical-align: middle;\n",
       "    }\n",
       "\n",
       "    .dataframe tbody tr th {\n",
       "        vertical-align: top;\n",
       "    }\n",
       "\n",
       "    .dataframe thead th {\n",
       "        text-align: right;\n",
       "    }\n",
       "</style>\n",
       "<table border=\"1\" class=\"dataframe\">\n",
       "  <thead>\n",
       "    <tr style=\"text-align: right;\">\n",
       "      <th></th>\n",
       "      <th>worker_id</th>\n",
       "      <th>task_id</th>\n",
       "      <th>task_response_id</th>\n",
       "      <th>query</th>\n",
       "      <th>intent</th>\n",
       "      <th>query_date_time</th>\n",
       "    </tr>\n",
       "  </thead>\n",
       "  <tbody>\n",
       "    <tr>\n",
       "      <th>0</th>\n",
       "      <td>4TNHZX6VKQAA</td>\n",
       "      <td>65ec35f1-e6cf-4cf5-95a0-bb6b67a0ac57</td>\n",
       "      <td>2e046eac-1662-4aa8-b227-da955bfb5975</td>\n",
       "      <td>Kahana Point</td>\n",
       "      <td>I wanted to see if there was a trail at Kahana...</td>\n",
       "      <td>6/11/22 15:11:00</td>\n",
       "    </tr>\n",
       "    <tr>\n",
       "      <th>1</th>\n",
       "      <td>Y72KN4H9FMJJ</td>\n",
       "      <td>0cb2e5b9-0694-4d59-97c5-8fcba24c1980</td>\n",
       "      <td>5ab8ba2b-0bc7-458c-bdd7-d5ee50c6c429</td>\n",
       "      <td>ibuprofen 800mg side effects</td>\n",
       "      <td>I'm trying to find the side effects for the me...</td>\n",
       "      <td>6/11/22 08:29:00</td>\n",
       "    </tr>\n",
       "    <tr>\n",
       "      <th>2</th>\n",
       "      <td>6CNHTCG6W6XM</td>\n",
       "      <td>b93e587c-2642-4692-b5ea-c0e3675c0f7b</td>\n",
       "      <td>cbe17eb7-253f-4141-a2c8-b59eebd73369</td>\n",
       "      <td>asics sandals</td>\n",
       "      <td>I was looking for a particular footwear that I...</td>\n",
       "      <td>6/10/22 19:24:00</td>\n",
       "    </tr>\n",
       "    <tr>\n",
       "      <th>3</th>\n",
       "      <td>X6P6DQRXD62A</td>\n",
       "      <td>6a2a9140-03dc-4dba-b4cb-899dd72d1658</td>\n",
       "      <td>f1ad8817-4e77-4cb4-9988-8dcb35213bb8</td>\n",
       "      <td>Forewarned</td>\n",
       "      <td>I was looking up the video game titled \"Forewa...</td>\n",
       "      <td>6/11/22 18:56:00</td>\n",
       "    </tr>\n",
       "    <tr>\n",
       "      <th>4</th>\n",
       "      <td>X6P6DQRXD62A</td>\n",
       "      <td>c778c206-688d-42a8-a177-883755c194e4</td>\n",
       "      <td>d1d734a1-c1c5-4c74-9e7e-e2a3a3be37c7</td>\n",
       "      <td>LOLTNA History</td>\n",
       "      <td>TNA was a pro wrestling league with a reputati...</td>\n",
       "      <td>6/09/22 23:34:00</td>\n",
       "    </tr>\n",
       "  </tbody>\n",
       "</table>\n",
       "</div>"
      ],
      "text/plain": [
       "      worker_id                               task_id  \\\n",
       "0  4TNHZX6VKQAA  65ec35f1-e6cf-4cf5-95a0-bb6b67a0ac57   \n",
       "1  Y72KN4H9FMJJ  0cb2e5b9-0694-4d59-97c5-8fcba24c1980   \n",
       "2  6CNHTCG6W6XM  b93e587c-2642-4692-b5ea-c0e3675c0f7b   \n",
       "3  X6P6DQRXD62A  6a2a9140-03dc-4dba-b4cb-899dd72d1658   \n",
       "4  X6P6DQRXD62A  c778c206-688d-42a8-a177-883755c194e4   \n",
       "\n",
       "                       task_response_id                         query  \\\n",
       "0  2e046eac-1662-4aa8-b227-da955bfb5975                  Kahana Point   \n",
       "1  5ab8ba2b-0bc7-458c-bdd7-d5ee50c6c429  ibuprofen 800mg side effects   \n",
       "2  cbe17eb7-253f-4141-a2c8-b59eebd73369                 asics sandals   \n",
       "3  f1ad8817-4e77-4cb4-9988-8dcb35213bb8                    Forewarned   \n",
       "4  d1d734a1-c1c5-4c74-9e7e-e2a3a3be37c7                LOLTNA History   \n",
       "\n",
       "                                              intent   query_date_time  \n",
       "0  I wanted to see if there was a trail at Kahana...  6/11/22 15:11:00  \n",
       "1  I'm trying to find the side effects for the me...  6/11/22 08:29:00  \n",
       "2  I was looking for a particular footwear that I...  6/10/22 19:24:00  \n",
       "3  I was looking up the video game titled \"Forewa...  6/11/22 18:56:00  \n",
       "4  TNA was a pro wrestling league with a reputati...  6/09/22 23:34:00  "
      ]
     },
     "execution_count": 3,
     "metadata": {},
     "output_type": "execute_result"
    }
   ],
   "source": [
    "df.head()"
   ]
  },
  {
   "cell_type": "code",
   "execution_count": 5,
   "metadata": {},
   "outputs": [],
   "source": [
    "df['query_date_time'] = pd.to_datetime(df['query_date_time'], format='%m/%d/%y %H:%M:%S')"
   ]
  },
  {
   "cell_type": "code",
   "execution_count": 6,
   "metadata": {},
   "outputs": [],
   "source": [
    "df_clean = df.copy()"
   ]
  },
  {
   "cell_type": "code",
   "execution_count": 7,
   "metadata": {},
   "outputs": [],
   "source": [
    "df_clean.drop(columns=['worker_id', 'task_id', 'task_response_id'], inplace=True, axis=1)"
   ]
  },
  {
   "cell_type": "code",
   "execution_count": 8,
   "metadata": {},
   "outputs": [
    {
     "name": "stdout",
     "output_type": "stream",
     "text": [
      "<class 'pandas.core.frame.DataFrame'>\n",
      "RangeIndex: 547 entries, 0 to 546\n",
      "Data columns (total 3 columns):\n",
      " #   Column           Non-Null Count  Dtype         \n",
      "---  ------           --------------  -----         \n",
      " 0   query            547 non-null    object        \n",
      " 1   intent           547 non-null    object        \n",
      " 2   query_date_time  547 non-null    datetime64[ns]\n",
      "dtypes: datetime64[ns](1), object(2)\n",
      "memory usage: 12.9+ KB\n"
     ]
    }
   ],
   "source": [
    "df_clean.info()"
   ]
  },
  {
   "cell_type": "code",
   "execution_count": 9,
   "metadata": {},
   "outputs": [
    {
     "data": {
      "text/plain": [
       "query              0\n",
       "intent             0\n",
       "query_date_time    0\n",
       "dtype: int64"
      ]
     },
     "execution_count": 9,
     "metadata": {},
     "output_type": "execute_result"
    }
   ],
   "source": [
    "df_clean.isnull().sum()"
   ]
  },
  {
   "cell_type": "code",
   "execution_count": 10,
   "metadata": {},
   "outputs": [
    {
     "data": {
      "text/plain": [
       "0"
      ]
     },
     "execution_count": 10,
     "metadata": {},
     "output_type": "execute_result"
    }
   ],
   "source": [
    "df_clean.duplicated().sum()"
   ]
  },
  {
   "cell_type": "code",
   "execution_count": 11,
   "metadata": {},
   "outputs": [],
   "source": [
    "df_clean.to_csv('cleaned_data/df_clean.csv', index=False)"
   ]
  }
 ],
 "metadata": {
  "kernelspec": {
   "display_name": "search-engine-optimization-gsG5lIpk-py3.9",
   "language": "python",
   "name": "python3"
  },
  "language_info": {
   "codemirror_mode": {
    "name": "ipython",
    "version": 3
   },
   "file_extension": ".py",
   "mimetype": "text/x-python",
   "name": "python",
   "nbconvert_exporter": "python",
   "pygments_lexer": "ipython3",
   "version": "3.9.13"
  },
  "orig_nbformat": 4
 },
 "nbformat": 4,
 "nbformat_minor": 2
}
